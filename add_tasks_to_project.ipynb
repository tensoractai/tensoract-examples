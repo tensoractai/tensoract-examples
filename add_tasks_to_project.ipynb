{
 "cells": [
  {
   "cell_type": "code",
   "execution_count": null,
   "id": "c595ca40",
   "metadata": {},
   "outputs": [],
   "source": [
    "pip install tensoract"
   ]
  },
  {
   "cell_type": "code",
   "execution_count": 5,
   "id": "967eb54e",
   "metadata": {},
   "outputs": [],
   "source": [
    "import os\n",
    "import json"
   ]
  },
  {
   "cell_type": "code",
   "execution_count": 6,
   "id": "bca007de",
   "metadata": {},
   "outputs": [],
   "source": [
    "from pprint import pprint\n",
    "from tensoract.client import Tensoract"
   ]
  },
  {
   "cell_type": "code",
   "execution_count": 7,
   "id": "51bfb797",
   "metadata": {},
   "outputs": [],
   "source": [
    "client = Tensoract(api_url=\"https://api.tensoract.com/\",api_key=\"your_api_key\")"
   ]
  },
  {
   "attachments": {},
   "cell_type": "markdown",
   "id": "15e0698c",
   "metadata": {},
   "source": [
    "# 1.Create a new Dataset Item"
   ]
  },
  {
   "cell_type": "code",
   "execution_count": null,
   "id": "e6019f3f",
   "metadata": {},
   "outputs": [],
   "source": [
    "body ={\n",
    "  \"dataset_id\": \"your_dataset_id\",\n",
    "  \"dataset_items\": [{\"source\":\"path_to_your_dataset_item_file\"}]}   \n",
    "\n",
    "pprint(client.create_dataset_item(body))"
   ]
  },
  {
   "attachments": {},
   "cell_type": "markdown",
   "id": "3a21d29c",
   "metadata": {},
   "source": [
    "# 2. Add new task"
   ]
  },
  {
   "cell_type": "code",
   "execution_count": null,
   "id": "ae3594bd",
   "metadata": {},
   "outputs": [],
   "source": [
    "pprint(client.add_task(project_id=\"your_project_id\",\n",
    "                  dataset_item_id=\"your_dataset_item_id_from_previous_cell_result\"))"
   ]
  },
  {
   "attachments": {},
   "cell_type": "markdown",
   "id": "f0b9b6bb",
   "metadata": {},
   "source": [
    "# 3.Add bulk tasks"
   ]
  },
  {
   "cell_type": "code",
   "execution_count": null,
   "id": "3adf74cd",
   "metadata": {},
   "outputs": [],
   "source": [
    "dataset_items = [\n",
    "   \"dataset_item_id_1\",\n",
    "    \"dataset_item_id_2\",\n",
    "    \"dataset_item_id_3\"\n",
    "]\n",
    "  \n",
    "\n",
    "pprint(client.add_bulk_tasks(project_id=\"your_project_id\",\n",
    "                                   note=\"add bulk tasks to project\",\n",
    "                          dataset_items=dataset_items))"
   ]
  },
  {
   "cell_type": "code",
   "execution_count": null,
   "id": "4fe9d72d",
   "metadata": {},
   "outputs": [],
   "source": []
  }
 ],
 "metadata": {
  "kernelspec": {
   "display_name": "Python 3 (ipykernel)",
   "language": "python",
   "name": "python3"
  },
  "language_info": {
   "codemirror_mode": {
    "name": "ipython",
    "version": 3
   },
   "file_extension": ".py",
   "mimetype": "text/x-python",
   "name": "python",
   "nbconvert_exporter": "python",
   "pygments_lexer": "ipython3",
   "version": "3.9.12"
  }
 },
 "nbformat": 4,
 "nbformat_minor": 5
}
